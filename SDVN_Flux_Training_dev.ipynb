{
  "cells": [
    {
      "cell_type": "markdown",
      "metadata": {
        "id": "-iUUqhJBwbNW"
      },
      "source": [
        "# [![](https://img.shields.io/badge/Kohya%20Setting-Wiki-Blue)](https://github.com/kohya-ss/sd-scripts/tree/sd3?tab=readme-ov-file#flux1-fine-tuning) [![](https://img.shields.io/badge/Video-Hướng%20dẫn-ff0000)](https://youtu.be/798qchqWty4) [![](https://img.shields.io/badge/Design-stablediffusion.vn-0075ff)](https://stablediffusion.vn) [![](https://img.shields.io/badge/Ver-1.0-0075ff)](https://trainlora.vn) [![](https://img.shields.io/badge/All%20Tools-sdvn.me-0075ff)](https://stablediffusion.vn/bo-cong-cu/) [![](https://img.shields.io/badge/Khoá%20học-SD%20Flux-red)](https://hungdiffusion.com/) [![](https://img.shields.io/badge/Group-Support-0075ff)](https://www.facebook.com/groups/stablediffusion.vn) [![](https://img.shields.io/discord/813085864355037235?color=blue&label=Discord&logo=Discord)](https://discord.gg/5SEtApPeyG)\n",
        "---"
      ]
    },
    {
      "cell_type": "markdown",
      "metadata": {
        "id": "bCvAV9ogvkXF"
      },
      "source": [
        "#💽 Install"
      ]
    },
    {
      "cell_type": "code",
      "execution_count": null,
      "metadata": {
        "cellView": "form",
        "id": "xPSymyd6divi"
      },
      "outputs": [],
      "source": [
        "# @title ###💽 Download + Install\n",
        "\n",
        "from google.colab import drive\n",
        "drive.mount('/content/drive')\n",
        "\n",
        "data_dir = \"//content/drive/MyDrive/SD-Data\"\n",
        "repo_dir = \"/content/SDVN-training-colab-flux\"\n",
        "\n",
        "#Install\n",
        "!git clone -b dev https://github.com/StableDiffusionVN/SDVN-training-colab-flux\n",
        "!pip install -q -r /content/SDVN-training-colab-flux/requirements.txt\n",
        "!git clone -b sd3 https://github.com/kohya-ss/sd-scripts\n",
        "%cd /content/sd-scripts\n",
        "!pip install -q -r /content/sd-scripts/requirements.txt\n",
        "%cd /content\n",
        "%run {repo_dir}/TrainScript.ipynb\n",
        "\n",
        "#Flux model download\n",
        "model_path = \"/content/model\"\n",
        "flux = \"https://huggingface.co/StableDiffusionVN/Flux/blob/main/Unet/flux1-dev.safetensors\"\n",
        "clip_l = \"https://huggingface.co/StableDiffusionVN/Flux/blob/main/Clip/clip_l.safetensors\"\n",
        "t5xxl_fp16 = \"https://huggingface.co/StableDiffusionVN/Flux/blob/main/Clip/t5xxl_fp16.safetensors\"\n",
        "vae = \"https://huggingface.co/StableDiffusionVN/Flux/blob/main/Vae/flux_vae.safetensors\"\n",
        "\n",
        "flux_path = f\"{model_path}/flux1-dev.safetensors\"\n",
        "clip_l_path = f\"{model_path}/clip_l.safetensors\"\n",
        "t5xxl_fp16_path = f\"{model_path}/t5xxl_fp16.safetensors\"\n",
        "vae_path = f\"{model_path}/flux_vae.safetensors\"\n",
        "\n",
        "#Download\n",
        "hug_down(flux,flux_path)\n",
        "hug_down(clip_l,clip_l_path)\n",
        "hug_down(t5xxl_fp16,t5xxl_fp16_path)\n",
        "hug_down(vae,vae_path)"
      ]
    },
    {
      "cell_type": "markdown",
      "metadata": {
        "id": "4qIyxUZxve1a"
      },
      "source": [
        "#☕️ Training"
      ]
    },
    {
      "cell_type": "code",
      "execution_count": null,
      "metadata": {
        "cellView": "form",
        "id": "WYO41fYFkRDl"
      },
      "outputs": [],
      "source": [
        "#@title ✨ 2.1 Caption\n",
        "#@markdown [![](https://img.shields.io/badge/Caption-Tools-blue)](https://colab.research.google.com/github/StableDiffusionVN/SDVN-training-colab-flux/blob/main/SDVN_Caption_Tools.ipynb)\n",
        "\n",
        "TrainFolder = \"/content/drive/MyDrive/SD-Data/TrainData\"  # @param {type:'string'}\n",
        "DataClean = False #@param {type:\"boolean\"}\n",
        "No_gen_caption = False #@param {type:\"boolean\"}\n",
        "# @markdown 🟡 `OCR Prompt`\n",
        "Caption = 'Florence' # @param ['None', 'Florence', 'APIGemini | 2.0 Flash', 'APIGemini | 2.0 Flash Lite', 'APIOpenAI | GPT 4-o mini']\n",
        "Caption_Length = \"Medium\" # @param [\"Short\",\"Medium\",\"Long\"]\n",
        "# @markdown 🟡 `API Caption`\n",
        "APIkey = \"\" # @param {type:'string'}\n",
        "API_Prompt = \"\" # @param {type:'string'}\n",
        "# @markdown 🟡 `Thêm caption tuỳ chọn`\n",
        "Custom_Caption = \"\" # @param {type:'string'}\n",
        "AddFolderName = False #@param {type:\"boolean\"}\n",
        "Remove_Caption = False #@param {type:\"boolean\"}\n",
        "Append = False #@param {type:\"boolean\"}\n",
        "\n",
        "if No_gen_caption == True:\n",
        "  Caption = 'None'\n",
        "  Custom_Caption = ''\n",
        "  AddFolderName = False\n",
        "\n",
        "Cap_prompt = {\n",
        "    'Short':['<CAPTION>',10,30,'short'],\n",
        "    'Medium':['<DETAILED_CAPTION>',10,100,'medium-length'],\n",
        "    'Long':['<MORE_DETAILED_CAPTION>',10,150,'very long']\n",
        "}\n",
        "extension =\".txt\"\n",
        "\n",
        "if DataClean == True :\n",
        "  %cd /content\n",
        "  clean_directory(TrainFolder)\n",
        "if Caption != \"None\":\n",
        "  caption_dir(TrainFolder,Cap_prompt[Caption_Length][0])\n",
        "if AddFolderName:\n",
        "  add_forder_name(TrainFolder)\n",
        "if Custom_Caption != \"\":\n",
        "  process_dir(TrainFolder, Custom_Caption, Append, Remove_Caption)\n"
      ]
    },
    {
      "cell_type": "code",
      "execution_count": null,
      "metadata": {
        "cellView": "form",
        "id": "_E39CeGMgpHT"
      },
      "outputs": [],
      "source": [
        "#@title ###⚡️ 2.2 Parameter\n",
        "#@markdown `Không sử dụng ký tự trống và ký tự đặc biệt đặt tên`\n",
        "output_name = \"lora_name\" # @param {\"type\":\"string\"}\n",
        "output_dir = \"/content/drive/MyDrive/SD-Data/Lora\" # @param {\"type\":\"string\"}\n",
        "image_dir = TrainFolder\n",
        "batch_size = 4 # @param {\"type\":\"number\"}\n",
        "resolution = \"1024\" # @param {\"type\":\"string\"}\n",
        "flip = False # @param {\"type\":\"boolean\"}\n",
        "color_aug = False # @param {\"type\":\"boolean\"}\n",
        "shuffle_caption = False # @param {\"type\":\"boolean\"}\n",
        "#@markdown `Cho phép chỉ định repeat cho từng thư mục bằng cách đặt tên thư mục {repeat}_foldername`\n",
        "num_repeats = 50 # @param {\"type\":\"number\"}\n",
        "epochs = 4 # @param {\"type\":\"number\"}\n",
        "save_every_n_epochs = 1 # @param {\"type\":\"number\"}\n",
        "lr = 1e-4 # @param {\"type\":\"number\"}\n",
        "lr_scheduler = \"constant\" # @param [\"constant\",\"cosine\",\"linear\",\"cosine_with_restarts\",\"adafactor\",\"polynomial\",\"constant_with_warmup\"]\n",
        "dim = 32 # @param {\"type\":\"number\"}\n",
        "alpha = 16 # @param {\"type\":\"number\"}\n",
        "train_textencode = True # @param {\"type\":\"boolean\"}\n",
        "\n",
        "#@markdown `Tuỳ chọn mở rộng`\n",
        "author = 'stablediffusion.vn' # @param {\"type\":\"string\"}\n",
        "sample_prompt = '' # @param {\"type\":\"string\"}\n",
        "sample_size = '768,1024' # @param {\"type\":\"string\"}\n",
        "sample_steps = 100 # @param {\"type\":\"number\"}\n",
        "save_state = False # @param {\"type\":\"boolean\"}\n",
        "resume = '' # @param {\"type\":\"string\"}\n",
        "wandbapi = '' # @param {\"type\":\"string\"}\n",
        "#@markdown `Training`\n",
        "runcode = False # @param {\"type\":\"boolean\"}\n",
        "output_dir = f\"{output_dir}/{output_name}\"\n",
        "dataset = f'/content/dataset_{output_name}.toml'\n",
        "AutoDisconect = False # @param {\"type\":\"boolean\"}\n",
        "\n",
        "#Config\n",
        "data_config = data_config(flip, color_aug, shuffle_caption)\n",
        "config = config(flux_path, clip_l_path, t5xxl_fp16_path, vae_path, dim, alpha, train_textencode, lr, lr_scheduler, epochs, save_every_n_epochs, dataset, output_dir, output_name)\n",
        "extra = extra(output_name, author,save_state, resume, wandbapi, sample_steps, runcode)\n",
        "prompt(sample_prompt, sample_size, TrainFolder)\n",
        "dataset_file(resolution, batch_size, image_dir, num_repeats, data_config, dataset)\n",
        "arg = f'accelerate launch {dic2arg(op)} flux_train_network.py {dic2arg(config)} {dic2arg(extra)}'\n",
        "check_folder_train(image_dir)\n",
        "%run {repo_dir}/TrainScript.ipynb\n",
        "print('Chạy lệnh sau trong Terminal( Cửa sổ dòng lệnh) hoặc bật chế độ runcode (Sẽ không hiển thị thông báo):')\n",
        "print(f\"cd /content/sd-scripts;{arg}\")\n",
        "if runcode:\n",
        "  %cd /content/sd-scripts\n",
        "  !{arg}\n",
        "if AutoDisconect:\n",
        "  from time import sleep\n",
        "  sleep(3*60)\n",
        "  from google.colab import runtime\n",
        "  runtime.unassign()"
      ]
    }
  ],
  "metadata": {
    "accelerator": "GPU",
    "colab": {
      "collapsed_sections": [
        "bCvAV9ogvkXF"
      ],
      "gpuType": "A100",
      "machine_shape": "hm",
      "private_outputs": true,
      "provenance": []
    },
    "kernelspec": {
      "display_name": "Python 3",
      "name": "python3"
    },
    "language_info": {
      "name": "python"
    }
  },
  "nbformat": 4,
  "nbformat_minor": 0
}
