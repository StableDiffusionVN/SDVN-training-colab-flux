{
 "cells": [
  {
   "cell_type": "markdown",
   "metadata": {
    "id": "kmK4UEj1-gHB"
   },
   "source": [
    "# [![](https://img.shields.io/badge/Video-Hướng%20dẫn-ff0000)](https://youtu.be/798qchqWty4) [![](https://img.shields.io/badge/Design-stablediffusion.vn-0075ff)](https://stablediffusion.vn) [![](https://img.shields.io/badge/Ver-3.0-0075ff)](https://stablediffusion.vn/update/) [![](https://img.shields.io/badge/All%20Tools-sdvn.me-0075ff)](https://stablediffusion.vn/bo-cong-cu/) [![](https://img.shields.io/badge/SDVN-Library-green)](https://bit.ly/sdvn-lib) [![](https://img.shields.io/badge/Khoá%20học-SD%20Flux-red)](https://hungdiffusion.com/) [![](https://img.shields.io/badge/Group-Support-0075ff)](https://www.facebook.com/groups/stablediffusion.vn) [![](https://img.shields.io/discord/813085864355037235?color=blue&label=Discord&logo=Discord)](https://discord.gg/5SEtApPeyG)\n",
    "---\n",
    "🧨 `Support Lora Flux, Kontext, Qwen, Hi-Dream, Wan`"
   ]
  },
  {
   "cell_type": "markdown",
   "metadata": {
    "id": "2DRFiKdj5UWy"
   },
   "source": [
    "#☕️ 1.Cài đặt"
   ]
  },
  {
   "cell_type": "code",
   "execution_count": null,
   "metadata": {
    "cellView": "form",
    "id": "Gip8TXBMjVEP"
   },
   "outputs": [],
   "source": [
    "#@title ✨ Cài đặt UI\n",
    "\n",
    "root_dir = \"/content\"\n",
    "repo_dir = f\"{root_dir}/SDVN-training-colab-flux\"\n",
    "toolkit_dir = f\"{repo_dir}/ai-toolkit\"\n",
    "config_dir = f\"{repo_dir}/Config\"\n",
    "data_dir = f\"/content/drive/MyDrive/SD-Data\"\n",
    "\n",
    "UI_Train =  \"Colab\" # @param [\"Colab\",\"Toolkit_UI\"]\n",
    "\n",
    "%cd /content\n",
    "from google.colab import drive\n",
    "drive.mount('/content/drive')\n",
    "import os\n",
    "if not os.path.exists(repo_dir):\n",
    "  !git clone  --recurse-submodules https://github.com/StableDiffusionVN/SDVN-training-colab-flux {repo_dir}\n",
    "  %env TF_CPP_MIN_LOG_LEVEL=1\n",
    "  %env LD_PRELOAD={repo_dir}/libtcmalloc_minimal.so.4\n",
    "\n",
    "%cd {toolkit_dir}\n",
    "!git checkout main\n",
    "!git pull\n",
    "!pip install -q $(sed -n '5p' {repo_dir}/ai-toolkit/requirements.txt)\n",
    "!pip install -q -r {repo_dir}/requirements.txt\n",
    "%run {repo_dir}/TrainScript.ipynb\n",
    "\n",
    "if UI_Train == \"Toolkit_UI\":\n",
    "  !wget -c https://github.com/cloudflare/cloudflared/releases/latest/download/cloudflared-linux-amd64.deb\n",
    "  !dpkg -i cloudflared-linux-amd64.deb\n",
    "  %cd /content/SDVN-training-colab-flux/ai-toolkit/ui\n",
    "  sever_flare(8675)\n",
    "  !npm run build_and_start"
   ]
  },
  {
   "cell_type": "markdown",
   "metadata": {
    "id": "4Xd6BfhD5YHU"
   },
   "source": [
    "#⏳ 2. Cấu hình train"
   ]
  },
  {
   "cell_type": "code",
   "execution_count": null,
   "metadata": {
    "cellView": "form",
    "id": "I7b6wRv7FICD"
   },
   "outputs": [],
   "source": [
    "#@title ✨ 2.1 Xử lý dữ liệu\n",
    "\n",
    "# @markdown 🟡 `Train nhiều lora bằng cách nhập nhiều thư mục, cách nhau bằng dấu phẩy (,)`\n",
    "TrainFolder = \"/content/drive/MyDrive/SD-Data/TrainData\"  # @param {type:'string'}\n",
    "# @markdown 🟡 `Thư mục control chỉ áp dụng cho Flux Kontext (Không bắt buộc)`\n",
    "\n",
    "# @markdown 💡 `Ảnh của thư mục Control được coi là ảnh đầu vào, thư mục train được coi là ảnh kết quả, kontext có thể train không cần control folder. 2 thư mục cần trùng tên ảnh`\n",
    "ControlFolder = \"\"  # @param {type:'string'}\n",
    "DataClean = False #@param {type:\"boolean\"}\n",
    "No_gen_caption = False #@param {type:\"boolean\"}\n",
    "# @markdown 🟡 `OCR Prompt`\n",
    "\n",
    "#@markdown 💡 ` Florence yêu cầu khởi động lại phiên (Ctr + M + .) và chạy lại từ đầu, nên dùng Gemini API thay thế hoặc dùng Caption_tools riêng`\n",
    "\n",
    "#@markdown [![](https://img.shields.io/badge/Caption-Tools-blue)](https://colab.research.google.com/github/StableDiffusionVN/SDVN-training-colab-flux/blob/main/SDVN_Caption_Tools.ipynb)\n",
    "\n",
    "Caption = 'None' # @param ['None', 'WD14','Florence', 'APIGemini | 2.5 Flash', ' APIGemini | 2.5 Pro', 'APIGemini | 2.5 Flash Lite',  'APIOpenAI | GPT 5', 'APIOpenAI | GPT 5-mini', 'APIOpenAI | GPT 5-nano']\n",
    "APIkey = \"\" # @param {type:'string'}\n",
    "Caption_Length = \"Medium\" # @param [\"Short\",\"Medium\",\"Long\"]\n",
    "# @markdown 🟡 `API Caption`\n",
    "API_Prompt = \"\" # @param {type:'string'}\n",
    "# @markdown 🟡 `Thêm caption tuỳ chọn`\n",
    "Custom_Caption = \"\" # @param {type:'string'}\n",
    "AddFolderName = False #@param {type:\"boolean\"}\n",
    "Remove_Caption = False #@param {type:\"boolean\"}\n",
    "Append = False #@param {type:\"boolean\"}\n",
    "\n",
    "if No_gen_caption == True:\n",
    "  Caption = 'None'\n",
    "  Custom_Caption = ''\n",
    "  AddFolderName = False\n",
    "extension =\".txt\"\n",
    "train_folder_list = TrainFolder.split(\",\")\n",
    "control_folder_list = ControlFolder.split(\",\")\n",
    "\n",
    "Cap_prompt = {\n",
    "    'Short':['<CAPTION>',10,30,'short'],\n",
    "    'Medium':['<DETAILED_CAPTION>',10,100,'medium-length'],\n",
    "    'Long':['<MORE_DETAILED_CAPTION>',10,150,'very long']\n",
    "}\n",
    "  \n",
    "for folder in train_folder_list:\n",
    "  if DataClean == True :\n",
    "    %cd /content\n",
    "    clean_directory(folder)\n",
    "  if Caption != \"None\":\n",
    "    caption_dir(folder,Cap_prompt[Caption_Length][0])\n",
    "  if AddFolderName:\n",
    "    add_forder_name(folder)\n",
    "  if Custom_Caption != \"\":\n",
    "    process_dir(folder, Custom_Caption, Append, Remove_Caption)"
   ]
  },
  {
   "cell_type": "code",
   "execution_count": null,
   "metadata": {
    "cellView": "form",
    "id": "ADTRzQt5pS5F"
   },
   "outputs": [],
   "source": [
    "#@title ⚙️ 2.2 Cài đặt train\n",
    "TypeTrain = 'Flux Kontext' # @param ['Flux','Flux Kontext', \"Qwen\", \"Qwen-Edit\", \"Hi-Dream\", \"Hi-Dream E1\",  \"Wan2.1 I2V (14B-720P)\",  \"Wan2.1 I2V (14B-480P)\", \"Wan2.1 (14B)\", \"Wan2.2 TI2V 5B\", \"Wan2.2 (14B)\", \"Wan2.2 I2V (14B)\" ]\n",
    "Low_VRAM = False #@param {type:\"boolean\"}\n",
    "# @markdown 🟡 `Đặt tên không có kỹ tự trống hoặc ký tự đặc biệt`\n",
    "Lora_name = \"lora_name\" # @param {\"type\":\"string\",\"placeholder\":\"Tên lora\"}\n",
    "OutputFolder = \"/content/drive/MyDrive/SD-Data/Lora\" #@param {type:'string'}\n",
    "# @markdown 🟡 `Điều chỉnh steps theo mức độ train mong muốn, các thư mục đặt tên theo cú pháp {steps}_{name} sẽ tự nhận steps riêng theo tên`\n",
    "Steps = 1000 #@param {type:'number'}\n",
    "Save_steps = 200 #@param {type:'number'}\n",
    "# @markdown 🟡 `Đặt = 1 nếu train kontext với controlfolder`\n",
    "Batch_size = 1 #@param {type:'number'}\n",
    "# @markdown 🟡 `Các thông số nên để theo mặc định`\n",
    "Lr = 1e-4 #@param {type:'number'}\n",
    "Dim = 16 #@param {type:'number'}\n",
    "Alpha = 16 #@param {type:'number'}\n",
    "# @markdown 🟡 `Có thể train nhiều size VD: 512,768,1024`\n",
    "Resolution = \"1024\" #@param {type:'string'}\n",
    "Train_TexEncoder = False\n",
    "Sampler_Prompt = \"\" #@param {type:'string'}\n",
    "Control_Img_Path = \"\" #@param {type:'string'}\n",
    "Sampler_Steps = 100 #@param {type:'number'}\n",
    "\n",
    "folder_train = []\n",
    "for folder in train_folder_list:\n",
    "  if len(get_supported_images(folder)) > 0:\n",
    "    folder_dic = {\n",
    "    \"path\": folder,\n",
    "    \"control_path\": control_folder_list[train_folder_list.index(folder)] if ControlFolder != \"\" else \"\",\n",
    "    \"steps\": get_steps(folder)[0],\n",
    "    \"name\": get_steps(folder)[1].replace(\" \", \"_\")\n",
    "    }\n",
    "    folder_train.append(folder_dic)\n",
    "  else:\n",
    "    print(f\"Thư mục [ {folder} ] có thể không chứa ảnh được hỗ trợ, hãy kiểm tra lại (.png, .jpg, .jpeg, .webp, .bmp, .JPG, .JPEG, .PNG)\")\n",
    "\n",
    "for folder in folder_train:\n",
    "    config(folder)"
   ]
  },
  {
   "cell_type": "markdown",
   "metadata": {
    "id": "0zE_WGA-G5WC"
   },
   "source": [
    "#3. 🧨 Train"
   ]
  },
  {
   "cell_type": "code",
   "execution_count": null,
   "metadata": {
    "cellView": "form",
    "id": "Q7V9SS8gxnDy"
   },
   "outputs": [],
   "source": [
    "#@title ⏳ Run Lora Train\n",
    "AutoDisconect = False #@param {type:\"boolean\"}\n",
    "train()\n",
    "if AutoDisconect:\n",
    "    from time import sleep\n",
    "    sleep(180)\n",
    "    from google.colab import runtime\n",
    "    runtime.unassign()"
   ]
  }
 ],
 "metadata": {
  "accelerator": "GPU",
  "colab": {
   "collapsed_sections": [
    "kmK4UEj1-gHB"
   ],
   "gpuType": "A100",
   "machine_shape": "hm",
   "private_outputs": true,
   "provenance": []
  },
  "kernelspec": {
   "display_name": "base",
   "language": "python",
   "name": "python3"
  },
  "language_info": {
   "name": "python",
   "version": "3.11.9"
  }
 },
 "nbformat": 4,
 "nbformat_minor": 0
}
