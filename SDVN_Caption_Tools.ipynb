{
  "cells": [
    {
      "cell_type": "markdown",
      "metadata": {
        "id": "kmK4UEj1-gHB"
      },
      "source": [
        "# [![](https://img.shields.io/badge/Video-Hướng%20dẫn-ff0000)](https://youtu.be/798qchqWty4) [![](https://img.shields.io/badge/Design-stablediffusion.vn-0075ff)](https://stablediffusion.vn) [![](https://img.shields.io/badge/Ver-1-0075ff)](https://stablediffusion.vn/update/) [![](https://img.shields.io/badge/All%20Tools-sdvn.me-0075ff)](https://stablediffusion.vn/bo-cong-cu/) [![](https://img.shields.io/badge/SDVN-Library-green)](https://bit.ly/sdvn-lib) [![](https://img.shields.io/badge/Khoá%20học-SD%20Flux-red)](https://hungdiffusion.com/) [![](https://img.shields.io/badge/Group-Support-0075ff)](https://www.facebook.com/groups/stablediffusion.vn) [![](https://img.shields.io/discord/813085864355037235?color=blue&label=Discord&logo=Discord)](https://discord.gg/5SEtApPeyG)"
      ]
    },
    {
      "cell_type": "code",
      "execution_count": null,
      "metadata": {
        "cellView": "form",
        "id": "JtWCksugXwSF"
      },
      "outputs": [],
      "source": [
        "#@title #⚙️ Install\n",
        "%cd /content\n",
        "from google.colab import drive\n",
        "drive.mount('/content/drive')\n",
        "\n",
        "root_dir = \"/content\"\n",
        "repo_dir = f\"{root_dir}/SDVN-training-colab-flux\"\n",
        "toolkit_dir = f\"{repo_dir}/ai-toolkit\"\n",
        "config_dir = f\"{repo_dir}/Config\"\n",
        "data_dir = f\"/content/drive/Shareddrives/StableDiffusion\"\n",
        "loginhug = False\n",
        "%cd {root_dir}\n",
        "import os\n",
        "if not os.path.exists(repo_dir):\n",
        "  !git clone https://github.com/StableDiffusionVN/SDVN-training-colab-flux {repo_dir}\n",
        "  %env TF_CPP_MIN_LOG_LEVEL=1\n",
        "  %env LD_PRELOAD={repo_dir}/libtcmalloc_minimal.so.4\n",
        "  !pip install -U OpenAI google-genai transformers==4.44.0 flash_attn\n",
        "%run {repo_dir}/TrainScript.ipynb"
      ]
    },
    {
      "cell_type": "code",
      "execution_count": null,
      "metadata": {
        "cellView": "form",
        "id": "Sjls2xgjXwSG"
      },
      "outputs": [],
      "source": [
        "#@title ✨ Caption Folder\n",
        "#@markdown [![](https://img.shields.io/badge/FluxTrain-Trainlora.vn-blue)](https://colab.research.google.com/github/StableDiffusionVN/SDVN-training-colab-flux/blob/main/SDVN_Flux_Training.ipynb)\n",
        "\n",
        "# @markdown 🟡 `Caption cho nhiều thư mục riêng lẻ bằng việc nhiều nhập đường dẫn cách nhau dấu \",\"`\n",
        "Folder = \"/content/drive/MyDrive/SD-Data/TrainData\"  # @param {type:'string'}\n",
        "DataClean = False #@param {type:\"boolean\"}\n",
        "# @markdown 🟡 `OCR Prompt`\n",
        "Caption = 'Florence' # @param ['None', 'WD14','Florence', 'APIGemini | 2.5 Flash', ' APIGemini | 2.5 Pro', 'APIGemini | 2.5 Flash Lite',  'APIOpenAI | GPT 5', 'APIOpenAI | GPT 5-mini', 'APIOpenAI | GPT 5-nano']\n",
        "APIkey = \"\" # @param {type:'string'}\n",
        "Caption_Length = \"Medium\" # @param [\"Short\",\"Medium\",\"Long\"]\n",
        "\n",
        "# @markdown 🟡 `API Caption`\n",
        "API_Prompt = \"\" # @param {type:'string'}\n",
        "# @markdown 🟡 `Thêm caption tuỳ chọn`\n",
        "Custom_Caption = \"\" # @param {type:'string'}\n",
        "AddFolderName = False #@param {type:\"boolean\"}\n",
        "Remove_Caption = False #@param {type:\"boolean\"}\n",
        "Append = False #@param {type:\"boolean\"}\n",
        "extension =\".txt\"\n",
        "train_folder_list = Folder.split(\",\")\n",
        "\n",
        "Cap_prompt = {\n",
        "    'Short':['<CAPTION>',10,30,'short'],\n",
        "    'Medium':['<DETAILED_CAPTION>',10,100,'medium-length'],\n",
        "    'Long':['<MORE_DETAILED_CAPTION>',10,150,'very long']\n",
        "}\n",
        "\n",
        "for folder in train_folder_list:\n",
        "  if DataClean == True :\n",
        "    %cd /content\n",
        "    clean_directory(folder)\n",
        "  if Caption != \"None\":\n",
        "    caption_dir(folder,Cap_prompt[Caption_Length][0])\n",
        "  if AddFolderName:\n",
        "    add_forder_name(folder)\n",
        "  if Custom_Caption != \"\":\n",
        "    process_dir(folder, Custom_Caption, Append, Remove_Caption)\n",
        "\n",
        "AutoDisconect = False #@param {type:\"boolean\"}\n",
        "if AutoDisconect:\n",
        "    from time import sleep\n",
        "    sleep(30)\n",
        "    from google.colab import runtime\n",
        "    runtime.unassign()"
      ]
    }
  ],
  "metadata": {
    "accelerator": "GPU",
    "colab": {
      "gpuType": "T4",
      "machine_shape": "hm",
      "private_outputs": true,
      "provenance": []
    },
    "kernelspec": {
      "display_name": "Python 3",
      "name": "python3"
    },
    "language_info": {
      "name": "python"
    }
  },
  "nbformat": 4,
  "nbformat_minor": 0
}
